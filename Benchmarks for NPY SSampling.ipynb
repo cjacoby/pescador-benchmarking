{
 "cells": [
  {
   "cell_type": "code",
   "execution_count": 5,
   "metadata": {
    "collapsed": true
   },
   "outputs": [],
   "source": [
    "import pprint\n",
    "import tempfile\n",
    "import numpy as np\n",
    "import pescador\n",
    "import time\n",
    "import os\n",
    "\n",
    "n_samples = [100, 1000, 10000, 20000, 50000]\n",
    "sample_shapes = [(1, 10), (1, 10, 10), (1, 6, 26, 26)]\n",
    "\n",
    "n_to_test = 1000\n",
    "buffer_size = 128"
   ]
  },
  {
   "cell_type": "code",
   "execution_count": 2,
   "metadata": {
    "collapsed": true
   },
   "outputs": [],
   "source": [
    "def create_npy(n_samples, sample_shapes, filename):\n",
    "    shape = list(sample_shapes)\n",
    "    shape[0] = n_samples\n",
    "    arrays_to_save = np.random.random(shape)\n",
    "    \n",
    "    np.save(filename, arrays_to_save)\n",
    "    \n",
    "def npy_gen(filename, mmap='r'):\n",
    "    data_in = np.load(filename, mmap_mode=mmap)\n",
    "    \n",
    "    while True:\n",
    "        i = np.random.randint(len(data_in))\n",
    "        yield dict(X=np.array(data_in[i]))"
   ]
  },
  {
   "cell_type": "code",
   "execution_count": 6,
   "metadata": {
    "collapsed": false
   },
   "outputs": [
    {
     "name": "stdout",
     "output_type": "stream",
     "text": [
      "random_100_1-10.npy created in 0.0006449222564697266s\n",
      "random_100_1-10.npy generator sampling average: 0.0000258s\n",
      "random_100_1-10.npy streamer sampling average: 0.0000085s\n",
      "random_100_1-10.npy buffered sampling average: 0.0001491s\n",
      "random_100_1-10.npy buffered sampling per sample average: 0.0000012s\n",
      "random_100_1-10-10.npy created in 0.0012819766998291016s\n",
      "random_100_1-10-10.npy generator sampling average: 0.0000280s\n",
      "random_100_1-10-10.npy streamer sampling average: 0.0000100s\n",
      "random_100_1-10-10.npy buffered sampling average: 0.0001468s\n",
      "random_100_1-10-10.npy buffered sampling per sample average: 0.0000011s\n",
      "random_100_1-6-26-26.npy created in 0.020808935165405273s\n",
      "random_100_1-6-26-26.npy generator sampling average: 0.0000350s\n",
      "random_100_1-6-26-26.npy streamer sampling average: 0.0000130s\n",
      "random_100_1-6-26-26.npy buffered sampling average: 0.0004777s\n",
      "random_100_1-6-26-26.npy buffered sampling per sample average: 0.0000037s\n",
      "random_1000_1-10.npy created in 0.0006899833679199219s\n",
      "random_1000_1-10.npy generator sampling average: 0.0000319s\n",
      "random_1000_1-10.npy streamer sampling average: 0.0000109s\n",
      "random_1000_1-10.npy buffered sampling average: 0.0001489s\n",
      "random_1000_1-10.npy buffered sampling per sample average: 0.0000012s\n",
      "random_1000_1-10-10.npy created in 0.004467010498046875s\n",
      "random_1000_1-10-10.npy generator sampling average: 0.0000233s\n",
      "random_1000_1-10-10.npy streamer sampling average: 0.0000102s\n",
      "random_1000_1-10-10.npy buffered sampling average: 0.0001543s\n",
      "random_1000_1-10-10.npy buffered sampling per sample average: 0.0000012s\n",
      "random_1000_1-6-26-26.npy created in 0.1830430030822754s\n",
      "random_1000_1-6-26-26.npy generator sampling average: 0.0000483s\n",
      "random_1000_1-6-26-26.npy streamer sampling average: 0.0000222s\n",
      "random_1000_1-6-26-26.npy buffered sampling average: 0.0005603s\n",
      "random_1000_1-6-26-26.npy buffered sampling per sample average: 0.0000044s\n",
      "random_10000_1-10.npy created in 0.004351139068603516s\n",
      "random_10000_1-10.npy generator sampling average: 0.0000244s\n",
      "random_10000_1-10.npy streamer sampling average: 0.0000093s\n",
      "random_10000_1-10.npy buffered sampling average: 0.0001599s\n",
      "random_10000_1-10.npy buffered sampling per sample average: 0.0000012s\n",
      "random_10000_1-10-10.npy created in 0.02801799774169922s\n",
      "random_10000_1-10-10.npy generator sampling average: 0.0000295s\n",
      "random_10000_1-10-10.npy streamer sampling average: 0.0000113s\n",
      "random_10000_1-10-10.npy buffered sampling average: 0.0001562s\n",
      "random_10000_1-10-10.npy buffered sampling per sample average: 0.0000012s\n",
      "random_10000_1-6-26-26.npy created in 1.5249991416931152s\n",
      "random_10000_1-6-26-26.npy generator sampling average: 0.0000426s\n",
      "random_10000_1-6-26-26.npy streamer sampling average: 0.0000311s\n",
      "random_10000_1-6-26-26.npy buffered sampling average: 0.0006353s\n",
      "random_10000_1-6-26-26.npy buffered sampling per sample average: 0.0000050s\n",
      "random_20000_1-10.npy created in 0.006132841110229492s\n",
      "random_20000_1-10.npy generator sampling average: 0.0000314s\n",
      "random_20000_1-10.npy streamer sampling average: 0.0000084s\n",
      "random_20000_1-10.npy buffered sampling average: 0.0001494s\n",
      "random_20000_1-10.npy buffered sampling per sample average: 0.0000012s\n",
      "random_20000_1-10-10.npy created in 0.10093808174133301s\n",
      "random_20000_1-10-10.npy generator sampling average: 0.0000782s\n",
      "random_20000_1-10-10.npy streamer sampling average: 0.0000125s\n",
      "random_20000_1-10-10.npy buffered sampling average: 0.0001622s\n",
      "random_20000_1-10-10.npy buffered sampling per sample average: 0.0000013s\n",
      "random_20000_1-6-26-26.npy created in 2.801236867904663s\n",
      "random_20000_1-6-26-26.npy generator sampling average: 0.0001697s\n",
      "random_20000_1-6-26-26.npy streamer sampling average: 0.0001342s\n",
      "random_20000_1-6-26-26.npy buffered sampling average: 0.0019721s\n",
      "random_20000_1-6-26-26.npy buffered sampling per sample average: 0.0000154s\n",
      "random_50000_1-10.npy created in 0.011691093444824219s\n",
      "random_50000_1-10.npy generator sampling average: 0.0000375s\n",
      "random_50000_1-10.npy streamer sampling average: 0.0000104s\n",
      "random_50000_1-10.npy buffered sampling average: 0.0001487s\n",
      "random_50000_1-10.npy buffered sampling per sample average: 0.0000012s\n",
      "random_50000_1-10-10.npy created in 0.16756582260131836s\n",
      "random_50000_1-10-10.npy generator sampling average: 0.0000305s\n",
      "random_50000_1-10-10.npy streamer sampling average: 0.0000127s\n",
      "random_50000_1-10-10.npy buffered sampling average: 0.0001679s\n",
      "random_50000_1-10-10.npy buffered sampling per sample average: 0.0000013s\n",
      "random_50000_1-6-26-26.npy created in 8.207404851913452s\n",
      "random_50000_1-6-26-26.npy generator sampling average: 0.0002274s\n",
      "random_50000_1-6-26-26.npy streamer sampling average: 0.0001939s\n",
      "random_50000_1-6-26-26.npy buffered sampling average: 0.0040716s\n",
      "random_50000_1-6-26-26.npy buffered sampling per sample average: 0.0000318s\n"
     ]
    }
   ],
   "source": [
    "create_times = {}\n",
    "generator_sample_times = {}\n",
    "stream_sample_times = {}\n",
    "batch_sample_times = {}\n",
    "with tempfile.TemporaryDirectory() as tmpdir:\n",
    "    for n in n_samples:\n",
    "        for s in sample_shapes:\n",
    "            key = (n, s)\n",
    "            filename = \"random_{}_{}.npy\".format(n, \"-\".join([str(x) for x in s]))\n",
    "            filepath = os.path.join(tmpdir, filename)\n",
    "            \n",
    "            # Create the test file\n",
    "            c0 = time.time()\n",
    "            create_npy(n, s, filepath)\n",
    "            create_times[key] = time.time() - c0\n",
    "            print(filename, \"created in\", \"{}s\".format(create_times[key]))\n",
    "            \n",
    "            # Sample from it with no streamer\n",
    "            sample_times = []\n",
    "            s0 = time.time()\n",
    "            for i, batch in enumerate(npy_gen(filepath)):\n",
    "                sample_times.append(time.time() - s0)\n",
    "                \n",
    "                if i > n_to_test:\n",
    "                    break\n",
    "                s0 = time.time()\n",
    "            \n",
    "            generator_sample_times[key] = np.mean(sample_times)\n",
    "            print(filename, \"generator sampling average:\", \"{:.7f}s\".format(generator_sample_times[key]))\n",
    "            \n",
    "            # Sample from it with a basic streamer\n",
    "            streamer = pescador.Streamer(npy_gen(filepath))\n",
    "            sample_times = []\n",
    "            s0 = time.time()\n",
    "            for batch in streamer.generate(max_batches=n_to_test):\n",
    "                sample_times.append(time.time() - s0)\n",
    "                s0 = time.time()\n",
    "                \n",
    "            stream_sample_times[key] = np.mean(sample_times)\n",
    "            print(filename, \"streamer sampling average:\", \"{:.7f}s\".format(stream_sample_times[key]))\n",
    "                \n",
    "            # sample from it with a batch streamer\n",
    "            buffstream = pescador.BufferedStreamer(streamer, buffer_size)\n",
    "            sample_times = []\n",
    "            s0 = time.time()\n",
    "            for batch in buffstream.generate(max_batches=n_to_test):\n",
    "                sample_times.append(time.time() - s0)\n",
    "                s0 = time.time()\n",
    "                \n",
    "            batch_sample_times[key] = np.mean(sample_times)\n",
    "            print(filename, \"buffered sampling average:\", \"{:.7f}s\".format(batch_sample_times[key]))\n",
    "            print(filename, \"buffered sampling per sample average:\", \"{:.7f}s\".format(batch_sample_times[key] / buffer_size))"
   ]
  },
  {
   "cell_type": "code",
   "execution_count": null,
   "metadata": {
    "collapsed": false
   },
   "outputs": [],
   "source": [
    "pprint.pprint(create_times)\n",
    "pprint.pprint(generator_sample_times)\n",
    "pprint.pprint(stream_sample_times)\n",
    "pprint.pprint(batch_sample_times)"
   ]
  },
  {
   "cell_type": "code",
   "execution_count": null,
   "metadata": {
    "collapsed": true
   },
   "outputs": [],
   "source": []
  }
 ],
 "metadata": {
  "kernelspec": {
   "display_name": "Python 3",
   "language": "python",
   "name": "python3"
  },
  "language_info": {
   "codemirror_mode": {
    "name": "ipython",
    "version": 3
   },
   "file_extension": ".py",
   "mimetype": "text/x-python",
   "name": "python",
   "nbconvert_exporter": "python",
   "pygments_lexer": "ipython3",
   "version": "3.5.2"
  },
  "widgets": {
   "state": {},
   "version": "1.1.2"
  }
 },
 "nbformat": 4,
 "nbformat_minor": 0
}
